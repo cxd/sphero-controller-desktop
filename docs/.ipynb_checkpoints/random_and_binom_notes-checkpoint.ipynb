{
 "cells": [
  {
   "cell_type": "markdown",
   "metadata": {},
   "source": [
    "__Sphero Robotic Controller Experiments__\n",
    "\n",
    "This project is an experiment in different automatic controllers for the sphero robot. \n",
    "\n",
    "The API it uses for communication is the bluecove API and a modified version of the \n",
    "[__nicklasgav Sphero-Desktop-API__](https://github.com/nicklasgav/Sphero-Desktop-API) \n",
    "which includes some additional changes for the sensor streaming api, the changes are located here in the [fork of Sphero-Desktop-API](https://github.com/cxd/Sphero-Desktop-API.git).\n",
    "\n",
    "The following page contains some notes as to the implementation of the __RandomController__ and the __BinomialController__."
   ]
  },
  {
   "cell_type": "markdown",
   "metadata": {},
   "source": [
    "The __RandomController__ is very simple, the method _changeDirection_\n",
    "is used to change direction using a _randomHeading_.\n",
    "\n",
    "Given the __RollCommand__ takes a velocity between $0..1$ and a heading in degrees the new heading is\n",
    "calculated as\n",
    "$$\n",
    "randDegrees = rand(0,1) \\times 2 \\pi \\frac{180}{\\pi}\n",
    "$$\n",
    "If the _changeDirection_ method is triggered due to a collision in the prior iteration it adds 90 degrees to the last heading.\n",
    "$$\n",
    "randDegrees = \\theta  \\frac{180}{\\pi} + 90\n",
    "$$"
   ]
  },
  {
   "cell_type": "code",
   "execution_count": null,
   "metadata": {
    "collapsed": true
   },
   "outputs": [],
   "source": []
  }
 ],
 "metadata": {
  "kernelspec": {
   "display_name": "R",
   "language": "",
   "name": "ir"
  },
  "language_info": {
   "codemirror_mode": "r",
   "file_extension": ".r",
   "mimetype": "text/x-r-source",
   "name": "R",
   "pygments_lexer": "r",
   "version": "3.1.3"
  }
 },
 "nbformat": 4,
 "nbformat_minor": 0
}
